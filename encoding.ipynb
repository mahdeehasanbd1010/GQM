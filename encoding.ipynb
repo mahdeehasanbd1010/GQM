{
  "nbformat": 4,
  "nbformat_minor": 0,
  "metadata": {
    "colab": {
      "name": "encoding.ipynb",
      "provenance": []
    },
    "kernelspec": {
      "name": "python3",
      "display_name": "Python 3"
    },
    "language_info": {
      "name": "python"
    }
  },
  "cells": [
    {
      "cell_type": "code",
      "execution_count": 45,
      "metadata": {
        "colab": {
          "base_uri": "https://localhost:8080/"
        },
        "id": "xVjl6ptLfz6q",
        "outputId": "c5a2f9bd-96c9-492f-989a-1cb63eaab271"
      },
      "outputs": [
        {
          "output_type": "stream",
          "name": "stdout",
          "text": [
            "(74, 16)\n"
          ]
        },
        {
          "output_type": "execute_result",
          "data": {
            "text/plain": [
              "['Gender',\n",
              " 'Designation',\n",
              " 'Syntax easy',\n",
              " 'Libraries Helpful',\n",
              " 'Community Support',\n",
              " 'debug tool',\n",
              " 'Projects',\n",
              " 'cross-platform',\n",
              " 'Used as',\n",
              " 'runtime',\n",
              " 'memory management',\n",
              " 'extensibility and integrity',\n",
              " 'experience',\n",
              " 'ongoing projects',\n",
              " 'updated']"
            ]
          },
          "metadata": {},
          "execution_count": 45
        }
      ],
      "source": [
        "import pandas as pd\n",
        "dataset = pd.read_csv(\"GQMFilteredData.csv\")\n",
        "print(dataset.shape)\n",
        "dataset.drop(columns=['Unnamed: 0'],inplace=True)\n",
        "list(dataset.columns.values)"
      ]
    },
    {
      "cell_type": "code",
      "source": [
        "dataset['Designation'].value_counts()"
      ],
      "metadata": {
        "id": "wuPWauRpgC-g"
      },
      "execution_count": null,
      "outputs": []
    },
    {
      "cell_type": "code",
      "source": [
        "dataset['Gender'].value_counts()"
      ],
      "metadata": {
        "id": "J5-oYqxYgNjg"
      },
      "execution_count": null,
      "outputs": []
    },
    {
      "cell_type": "code",
      "source": [
        "dataset['Gender'] = dataset['Gender'].map({'Male': 0, 'Female': 1, 'Prefer not to say': 2})\n",
        "dataset['Gender']"
      ],
      "metadata": {
        "id": "fy_giZd-gh0l"
      },
      "execution_count": null,
      "outputs": []
    },
    {
      "cell_type": "code",
      "source": [
        "dataset['Syntax easy'].value_counts()"
      ],
      "metadata": {
        "id": "jYhzZF7piOTS"
      },
      "execution_count": null,
      "outputs": []
    },
    {
      "cell_type": "code",
      "source": [
        "dataset['Syntax easy'] = dataset['Syntax easy'].map({'Disagree':-1,'Strongly disagree':-2,\n",
        "                                                     'Neutral':0, 'Agree':1, 'Strongly agree': 2})\n",
        "dataset['Syntax easy']"
      ],
      "metadata": {
        "id": "TvyMJtNriksP"
      },
      "execution_count": null,
      "outputs": []
    },
    {
      "cell_type": "code",
      "source": [
        "dataset['Libraries Helpful'].value_counts()"
      ],
      "metadata": {
        "id": "mViY4m4njaFG"
      },
      "execution_count": null,
      "outputs": []
    },
    {
      "cell_type": "code",
      "source": [
        "dataset['Libraries Helpful'] = dataset['Libraries Helpful'].map({'Disagree':-1,'Strongly disagree':-2,\n",
        "                                                     'Neutral':0, 'Agree':1, 'Strongly Agree': 2})\n",
        "dataset['Libraries Helpful']"
      ],
      "metadata": {
        "id": "8H9evhtsjKBY"
      },
      "execution_count": null,
      "outputs": []
    },
    {
      "cell_type": "code",
      "source": [
        "dataset['Community Support'].value_counts()"
      ],
      "metadata": {
        "id": "N7Da6fb7juR1"
      },
      "execution_count": null,
      "outputs": []
    },
    {
      "cell_type": "code",
      "source": [
        "#dataset['Community Support'] = dataset['Community Support'].map({'Disagree':-1,'Strongly disagree':-2,\n",
        "#                                                    'Neutral':0, 'Agree':1, 'Strongly Agree': 2})\n",
        "#dataset['Community Support']"
      ],
      "metadata": {
        "id": "3rMSQkGGjm41"
      },
      "execution_count": 54,
      "outputs": []
    },
    {
      "cell_type": "code",
      "source": [
        "dataset['debug tool'].value_counts()"
      ],
      "metadata": {
        "id": "xC8VznC2j3qE"
      },
      "execution_count": null,
      "outputs": []
    },
    {
      "cell_type": "code",
      "source": [
        "dataset['Projects'].value_counts()\n",
        "# for l in dataset['Projects']:\n",
        "#   print(l.count(',')+1)"
      ],
      "metadata": {
        "id": "ALomunC-j_Rk"
      },
      "execution_count": null,
      "outputs": []
    },
    {
      "cell_type": "code",
      "source": [
        "dataset['cross-platform'].value_counts()"
      ],
      "metadata": {
        "colab": {
          "base_uri": "https://localhost:8080/"
        },
        "id": "s6lR2u0iA-rY",
        "outputId": "ee71f506-0c3f-4f1d-98c2-32a74a694951"
      },
      "execution_count": 57,
      "outputs": [
        {
          "output_type": "execute_result",
          "data": {
            "text/plain": [
              "Neutral              35\n",
              "Agree                20\n",
              "Disagree             12\n",
              "Strongly disagree     5\n",
              "Strongly Agree        2\n",
              "Name: cross-platform, dtype: int64"
            ]
          },
          "metadata": {},
          "execution_count": 57
        }
      ]
    },
    {
      "cell_type": "code",
      "source": [
        "dataset['cross-platform'] = dataset['cross-platform'].map({'Disagree':-1,'Strongly disagree':-2,\n",
        "                                                     'Neutral':0, 'Agree':1, 'Strongly Agree': 2})\n",
        "dataset['cross-platform']"
      ],
      "metadata": {
        "id": "Jt_HB3lEBJx_"
      },
      "execution_count": null,
      "outputs": []
    },
    {
      "cell_type": "code",
      "source": [
        "dataset['Used as'].value_counts()"
      ],
      "metadata": {
        "colab": {
          "base_uri": "https://localhost:8080/"
        },
        "id": "iA9kl3o0BXO2",
        "outputId": "39d226a5-f271-4cc6-a6ad-63118556db71"
      },
      "execution_count": 59,
      "outputs": [
        {
          "output_type": "execute_result",
          "data": {
            "text/plain": [
              "1    37\n",
              "2    22\n",
              "3    10\n",
              "4     4\n",
              "5     1\n",
              "Name: Used as, dtype: int64"
            ]
          },
          "metadata": {},
          "execution_count": 59
        }
      ]
    },
    {
      "cell_type": "code",
      "source": [
        "dataset['runtime'].value_counts()"
      ],
      "metadata": {
        "colab": {
          "base_uri": "https://localhost:8080/"
        },
        "id": "eliXwQeBCYH6",
        "outputId": "04755fc4-572d-4ba2-97a1-a773bdb2a694"
      },
      "execution_count": 60,
      "outputs": [
        {
          "output_type": "execute_result",
          "data": {
            "text/plain": [
              "3    39\n",
              "4    20\n",
              "2     9\n",
              "5     5\n",
              "1     1\n",
              "Name: runtime, dtype: int64"
            ]
          },
          "metadata": {},
          "execution_count": 60
        }
      ]
    },
    {
      "cell_type": "code",
      "source": [
        "dataset['memory management'].value_counts()"
      ],
      "metadata": {
        "colab": {
          "base_uri": "https://localhost:8080/"
        },
        "id": "N0YrXib5CeVy",
        "outputId": "f463062b-c41f-4e4c-b954-6f01d07d58f3"
      },
      "execution_count": 61,
      "outputs": [
        {
          "output_type": "execute_result",
          "data": {
            "text/plain": [
              "Never        28\n",
              "Seldom       25\n",
              "Sometimes    19\n",
              "Always        2\n",
              "Name: memory management, dtype: int64"
            ]
          },
          "metadata": {},
          "execution_count": 61
        }
      ]
    },
    {
      "cell_type": "code",
      "source": [
        "dataset['memory management'] = dataset['memory management'].map({'Never':2, 'Seldom':1, 'Sometimes':0,\n",
        "                                                                 'Always':-1})\n",
        "dataset['memory management']"
      ],
      "metadata": {
        "colab": {
          "base_uri": "https://localhost:8080/"
        },
        "id": "zxzoZEMzCoja",
        "outputId": "bcf6a097-4012-446f-b5e5-09af7db28e09"
      },
      "execution_count": 62,
      "outputs": [
        {
          "output_type": "execute_result",
          "data": {
            "text/plain": [
              "0     2\n",
              "1     2\n",
              "2     2\n",
              "3     2\n",
              "4     2\n",
              "     ..\n",
              "69    2\n",
              "70    1\n",
              "71    0\n",
              "72    0\n",
              "73    0\n",
              "Name: memory management, Length: 74, dtype: int64"
            ]
          },
          "metadata": {},
          "execution_count": 62
        }
      ]
    },
    {
      "cell_type": "code",
      "source": [
        "dataset['extensibility and integrity'].value_counts()"
      ],
      "metadata": {
        "colab": {
          "base_uri": "https://localhost:8080/"
        },
        "id": "rrHGjzebDYN3",
        "outputId": "eadb91e9-445e-4154-95a7-d45afe9614a8"
      },
      "execution_count": 63,
      "outputs": [
        {
          "output_type": "execute_result",
          "data": {
            "text/plain": [
              "Nan    28\n",
              "4      21\n",
              "3      17\n",
              "5       4\n",
              "2       3\n",
              "1       1\n",
              "Name: extensibility and integrity, dtype: int64"
            ]
          },
          "metadata": {},
          "execution_count": 63
        }
      ]
    },
    {
      "cell_type": "code",
      "source": [
        "dataset['experience'].value_counts()"
      ],
      "metadata": {
        "colab": {
          "base_uri": "https://localhost:8080/"
        },
        "id": "ESplmBNpDjWv",
        "outputId": "d0f08249-b082-4112-e770-3992595214fe"
      },
      "execution_count": 64,
      "outputs": [
        {
          "output_type": "execute_result",
          "data": {
            "text/plain": [
              "Less than a year    40\n",
              "1-5 years           26\n",
              "5-10 years           7\n",
              "10 or more           1\n",
              "Name: experience, dtype: int64"
            ]
          },
          "metadata": {},
          "execution_count": 64
        }
      ]
    },
    {
      "cell_type": "code",
      "source": [
        "dataset['experience'] = dataset['experience'].map({'Less than a year':0, '1-5 years':1, '5-10 years':2,\n",
        "                                                   '10 or more':3})\n",
        "dataset['experience']"
      ],
      "metadata": {
        "colab": {
          "base_uri": "https://localhost:8080/"
        },
        "id": "0h-9H9ddDu7v",
        "outputId": "1c5bf125-b5f3-494a-8217-592c662c4a65"
      },
      "execution_count": 65,
      "outputs": [
        {
          "output_type": "execute_result",
          "data": {
            "text/plain": [
              "0     1\n",
              "1     2\n",
              "2     0\n",
              "3     0\n",
              "4     1\n",
              "     ..\n",
              "69    0\n",
              "70    1\n",
              "71    0\n",
              "72    0\n",
              "73    0\n",
              "Name: experience, Length: 74, dtype: int64"
            ]
          },
          "metadata": {},
          "execution_count": 65
        }
      ]
    },
    {
      "cell_type": "code",
      "source": [
        "dataset['ongoing projects'].value_counts()"
      ],
      "metadata": {
        "colab": {
          "base_uri": "https://localhost:8080/"
        },
        "id": "W7uQAkb8EVbc",
        "outputId": "4dc0af5e-a98a-4853-e146-fc8378392803"
      },
      "execution_count": 66,
      "outputs": [
        {
          "output_type": "execute_result",
          "data": {
            "text/plain": [
              "0       41\n",
              "1-3     25\n",
              "More     5\n",
              "3-5      3\n",
              "Name: ongoing projects, dtype: int64"
            ]
          },
          "metadata": {},
          "execution_count": 66
        }
      ]
    },
    {
      "cell_type": "code",
      "source": [
        "dataset['ongoing projects'] = dataset['ongoing projects'].map({'0':0, '1-3':1, '3-5':2,\n",
        "                                                   'More':3})\n",
        "dataset['experience']"
      ],
      "metadata": {
        "colab": {
          "base_uri": "https://localhost:8080/"
        },
        "id": "xkwekyyZEaKs",
        "outputId": "901ec32d-9f0b-459b-90a0-ca60b43151f8"
      },
      "execution_count": 67,
      "outputs": [
        {
          "output_type": "execute_result",
          "data": {
            "text/plain": [
              "0     1\n",
              "1     2\n",
              "2     0\n",
              "3     0\n",
              "4     1\n",
              "     ..\n",
              "69    0\n",
              "70    1\n",
              "71    0\n",
              "72    0\n",
              "73    0\n",
              "Name: experience, Length: 74, dtype: int64"
            ]
          },
          "metadata": {},
          "execution_count": 67
        }
      ]
    },
    {
      "cell_type": "code",
      "source": [
        "dataset['updated'].value_counts()"
      ],
      "metadata": {
        "colab": {
          "base_uri": "https://localhost:8080/"
        },
        "id": "N8nakfgdEt72",
        "outputId": "32905b03-e4d1-44fa-ac5d-9e94a1c16fcb"
      },
      "execution_count": 68,
      "outputs": [
        {
          "output_type": "execute_result",
          "data": {
            "text/plain": [
              "Agree             38\n",
              "Neutral           29\n",
              "Strongly Agree     5\n",
              "Disagree           2\n",
              "Name: updated, dtype: int64"
            ]
          },
          "metadata": {},
          "execution_count": 68
        }
      ]
    },
    {
      "cell_type": "code",
      "source": [
        "dataset['updated'] = dataset['updated'].map({'Strongly Agree':2, 'Agree':1, 'Neutral':0,\n",
        "                                                   'Disagree':-1})\n",
        "dataset['updated']"
      ],
      "metadata": {
        "colab": {
          "base_uri": "https://localhost:8080/"
        },
        "id": "0RLnA5geEyeO",
        "outputId": "6b378550-4274-41b3-8ce5-b65b555ac031"
      },
      "execution_count": 69,
      "outputs": [
        {
          "output_type": "execute_result",
          "data": {
            "text/plain": [
              "0     0\n",
              "1     1\n",
              "2     1\n",
              "3     0\n",
              "4     1\n",
              "     ..\n",
              "69    0\n",
              "70    0\n",
              "71    1\n",
              "72    0\n",
              "73    0\n",
              "Name: updated, Length: 74, dtype: int64"
            ]
          },
          "metadata": {},
          "execution_count": 69
        }
      ]
    },
    {
      "cell_type": "code",
      "source": [
        "dataset.to_csv(\"EncodedData.csv\")"
      ],
      "metadata": {
        "id": "pLyDxdAZFPqa"
      },
      "execution_count": 70,
      "outputs": []
    }
  ]
}