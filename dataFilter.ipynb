{
  "nbformat": 4,
  "nbformat_minor": 0,
  "metadata": {
    "colab": {
      "name": "dataFilter.ipynb",
      "provenance": []
    },
    "kernelspec": {
      "name": "python3",
      "display_name": "Python 3"
    },
    "language_info": {
      "name": "python"
    }
  },
  "cells": [
    {
      "cell_type": "code",
      "execution_count": null,
      "metadata": {
        "colab": {
          "base_uri": "https://localhost:8080/"
        },
        "id": "L0fM1CUraNho",
        "outputId": "257c5b5b-f1f8-4a00-c3b9-49860fafc3e8"
      },
      "outputs": [
        {
          "output_type": "stream",
          "name": "stdout",
          "text": [
            "(74, 17)\n"
          ]
        }
      ],
      "source": [
        "import pandas as pd\n",
        "dataset = pd.read_excel(\"ResponseData.xlsx\")\n",
        "print(dataset.shape)"
      ]
    },
    {
      "cell_type": "code",
      "source": [
        "from google.colab import drive\n",
        "drive.mount('/content/drive')"
      ],
      "metadata": {
        "id": "GuonhMymahpU"
      },
      "execution_count": null,
      "outputs": []
    },
    {
      "cell_type": "code",
      "source": [
        "dataset.rename(columns = { 'You are a/an':'Designation',\n",
        "                          'Syntax is easy to learn, understand and use for any purpose( e.g. Web development, desktop software, machine learning)': 'Syntax easy',\n",
        "                          'Enough libraries are available for almost all problems and they are easy to import and use': 'Libraries Helpful',\n",
        "                          'How much effective (you get enough responses for any question and quick solution) is the community support? (1 means very bad and 5 means very good)': 'Community Support',\n",
        "                          'How much useful is python\\'s debugging tool? (1 means very bad and 5 means very good) / How much you prefer using debug tool rather than traditional print method?':'debug tool',\n",
        "                          'Which of the following kinds of projects you have developed with python..': 'Projects',\n",
        "                          'Python is your best choice while developing software for cross-platform environment i.e. built in Windows also works in Linux, Mac-OS and vice-versa ': 'cross-platform',\n",
        "                          'You have used Python for / as': 'Used as',\n",
        "                          'How frequently have you faced memory management(i.e. garbage collection, stack, heap, delete unused variable) issues while working with python?': 'memory management',\n",
        "                          'Rate python\\'s extensibility and integrated (adding new feature/ library without affecting others) ability? (skip it if you have not used python for that purpose)':'extensibility and integrity',\n",
        "                          'Your coding experience with python': 'experience',\n",
        "                          'Number of on going projects in Python':'ongoing projects',\n",
        "                          'Python is always updated and easier to switch new updates':'updated',\n",
        "                          'Rate your overall satisfaction on python\\'s code execution time (1 means to you it\\'s too slow and 5 means you found it too fast)':'runtime'},\n",
        "                inplace = True)"
      ],
      "metadata": {
        "id": "S38riUQja5eJ"
      },
      "execution_count": null,
      "outputs": []
    },
    {
      "cell_type": "code",
      "source": [
        "dataset.drop(columns=['Timestamp','Email Address'], inplace=True)"
      ],
      "metadata": {
        "id": "AwPuQUWUd2_Q"
      },
      "execution_count": null,
      "outputs": []
    },
    {
      "cell_type": "code",
      "source": [
        "list(dataset.columns.values)"
      ],
      "metadata": {
        "id": "uKhMdvbed-m_"
      },
      "execution_count": null,
      "outputs": []
    },
    {
      "cell_type": "code",
      "source": [
        "dataset.shape\n"
      ],
      "metadata": {
        "id": "cWt9qJQdenyO"
      },
      "execution_count": null,
      "outputs": []
    },
    {
      "cell_type": "code",
      "source": [
        "dataset.to_csv(\"GQMFilteredData.csv\")"
      ],
      "metadata": {
        "id": "ZrXQO7Ecep6d"
      },
      "execution_count": null,
      "outputs": []
    }
  ]
}